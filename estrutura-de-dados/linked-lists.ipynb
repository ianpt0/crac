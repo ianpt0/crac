{
 "cells": [
  {
   "attachments": {},
   "cell_type": "markdown",
   "metadata": {},
   "source": [
    "# Linked Lists \n",
    "***"
   ]
  },
  {
   "attachments": {},
   "cell_type": "markdown",
   "metadata": {},
   "source": [
    "As linguagens de programação oferecem diferentes maneiras de armazenar e acessar dados. Exemplos comuns são as arrays, listas, mapas entre outros.\n",
    "\n",
    "Através delas, armazenamos os elementos em localizações de memória contínua, ou seja, qualquer elemento em uma Array pode ser localizado em tempo constante O(1), com menor complexidade e, consequentemente, oferecendo rapidez e possibilitando o menor tempo de busca possível. Isso é, enquanto soubermos examente o index do elemento que queremos localizar. \n",
    "\n",
    "Mas e em cenários onde não sabemos o quanto de memória está sendo alocada? Por exemplo, em uma aplicação podemos presumir que um milhão de inputs seja o suficiente para cada usuário alocar em uma Array. Mas e se esse usuário só precisar de 20% desse espaço? Vamos estar desperdiçando bastante memória.\n",
    "\n",
    "Quando lidamos com dados dinâmicos onde precisamos inserir, realocar ou deletar um elemento no início ou no meio dessa Array também é um desafio, pois precisaríamos checar se tem espaço para esse novo elemento, realocar todos os outros e isso definitivamente demandaria tempo, paciência e riscos.\n",
    "\n",
    "\n",
    "### <b>O que é uma Linked List e como ela pode solucionar isso?</b>\n",
    "\n",
    "Linked List é uma estrutura de dados linear composta por várias células, formando uma lista encadeada ou \"chain\", onde se é armazenado um conjunto de nós (nodes) ligados um ao outro, formando uma sequência dinâmica.\n",
    "\n",
    "![alt text](https://codeforwin.org/wp-content/uploads/2015/09/Linked-list-nodes.png)\n",
    "\n",
    "- Os elementos podem ser inseridos e removidos em tempo constante.\n",
    "- Não desperdiça memória com o que não é utilizado.\n",
    "\n",
    "### <b>Quando usar uma Linked List?</b>\n",
    "\n",
    "- Quando você não sabe a quantidade de itens na Array.\n",
    "- Quando você não precisa de acesso aleatório aos elementos (diferente da Array, aqui você não consegue acessar o elemento partindo do index).\n",
    "- Quando você está lidando com dados dinâmicos e precisa inserir, deletar ou realocar elementos.\n",
    "\n",
    "\n",
    "---"
   ]
  },
  {
   "attachments": {},
   "cell_type": "markdown",
   "metadata": {},
   "source": [
    "## <b>Impletementação da classe Node</b>\n",
    "\n",
    "Como ilustrado na imagem acima, temos em mente que o objeto Node tem duas partes principais: um valor e o endereço.\n",
    "\n",
    "Para que a Linked List seja criada, ela precisa conter pelo menos um valor. Posteriormente o definiremos como nulo.\n",
    "\n",
    "Uma observação importante é que o valor None representa que, de fato, não existe um próximo objeto Node."
   ]
  },
  {
   "cell_type": "code",
   "execution_count": 5,
   "metadata": {},
   "outputs": [],
   "source": [
    "class Node:\n",
    "    def __init__(self, value):\n",
    "        self.value = value\n",
    "        self.next = None"
   ]
  },
  {
   "attachments": {},
   "cell_type": "markdown",
   "metadata": {},
   "source": [
    "Agora vamos definir algumas funções básicas, sendo elas:\n",
    "\n",
    "\n",
    "\n",
    "\n",
    "     | insert_node_to_tail(node)  | Para inserir um novo elemento após o último nó da lista.   | \n",
    "     | insert_node_to_head(node)  | Para inserir um novo elemento como o primeiro nó da lista. | \n",
    "     | is_empty()                 | Checa se a lista está vazia.                               | \n",
    "     | head()                     | Retorna o primeiro elemento da lista.                      | \n",
    "     | tail()                     | Retorna o último elemento da lista.                        | \n",
    "\n"
   ]
  },
  {
   "cell_type": "code",
   "execution_count": 6,
   "metadata": {},
   "outputs": [],
   "source": [
    "class LinkedList:                            # Primeiro passo | Criando a classe e indentando o primeiro node nulo (Head) \n",
    "    def __init__(self):\n",
    "        self.head = Node(None)\n",
    "\n",
    "    def insert_node_to_tail(self, node):    # Terceiro passo | Inserindo o ultimo node (Tail)\n",
    "        self.tail().next = node\n",
    "\n",
    "    def insert_node_to_head(self, node):    # Quarto passo | Inserindo o primeiro node (Head). Caso possua algum elemento após ao nulo que já definimos, \n",
    "                                            # será criado um novo elemento e, após ele, é inserido nosso elemento 1 de Head. ex: elem0 (self.head) -> novo_elemento (node.next) -> elemento1 (head_element.next)\n",
    "        if self.head.next:                    \n",
    "            head_element = self.head\n",
    "            node.next, head_element.next = head_element.next, node\n",
    "        else:\n",
    "            self.head.next = node           # elem0 -> novo_elemento\n",
    "\n",
    "    def is_empty(self):                       # Sexto passo | Checando se o novo_elemento é nulo\n",
    "        return self.head.next is None\n",
    "\n",
    "    def head(self):                           # Quinto passo | Retornando o Head (elemento 1)\n",
    "        return self.head.next\n",
    "\n",
    "    def tail(self):                           # Segundo passo | Caso não possua próximo elemento, é retornado o head. Caso possua, é retornado o ultitmo (tail).\n",
    "        pointer = self.head\n",
    "        while pointer.next:                   \n",
    "            pointer = pointer.next\n",
    "        return pointer\n",
    "        "
   ]
  },
  {
   "attachments": {},
   "cell_type": "markdown",
   "metadata": {},
   "source": [
    "---\n",
    "E é isso! Implementamos nossa Linked List com suas funções básicas, além de entendemos quando usar e também quais problemas ela resolve. \n",
    "\n",
    "Espero que tenham curtido e aprendido um pouco mais sobre estrutura de dados. Até a próxima!\n",
    "\n",
    "\n",
    "\n",
    "\n",
    "\n",
    "Ian Sobral\n",
    "\n",
    "\n",
    "[Meu Linkedin](https://www.linkedin.com/in/ian-sobral-0b54701a9/)"
   ]
  },
  {
   "cell_type": "code",
   "execution_count": 12,
   "metadata": {},
   "outputs": [],
   "source": [
    "# Bibliografia e referências:\n",
    "# Desafio https://www.youtube.com/mycodeschool\n",
    "# Artigo https://medium.com/real-algorithms/linked-list-c-python-776ee340a357\n",
    "# Artigo https://www.happycoders.eu/algorithms/array-vs-linked-list/\n",
    "# Artigo https://medium.com/real-algorithms/linked-list-c-python-776ee340a357\n",
    "\n"
   ]
  }
 ],
 "metadata": {
  "kernelspec": {
   "display_name": "Python 3",
   "language": "python",
   "name": "python3"
  },
  "language_info": {
   "codemirror_mode": {
    "name": "ipython",
    "version": 3
   },
   "file_extension": ".py",
   "mimetype": "text/x-python",
   "name": "python",
   "nbconvert_exporter": "python",
   "pygments_lexer": "ipython3",
   "version": "3.11.2"
  },
  "orig_nbformat": 4
 },
 "nbformat": 4,
 "nbformat_minor": 2
}
